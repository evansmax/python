{
 "cells": [
  {
   "cell_type": "code",
   "execution_count": 5,
   "metadata": {},
   "outputs": [],
   "source": [
    "from selenium import webdriver\n",
    "import time\n",
    "import re\n",
    "import io\n",
    "browser = webdriver.Chrome()"
   ]
  },
  {
   "cell_type": "code",
   "execution_count": 6,
   "metadata": {},
   "outputs": [],
   "source": [
    "now_handle = browser.current_window_handle\n",
    "all_handle = browser.window_handles\n",
    "for handle in all_handle:\n",
    "    if handle != now_handle:\n",
    "        browser.switch_to_window(handle)"
   ]
  },
  {
   "cell_type": "code",
   "execution_count": 25,
   "metadata": {},
   "outputs": [],
   "source": [
    "browser.refresh()"
   ]
  },
  {
   "cell_type": "code",
   "execution_count": 23,
   "metadata": {},
   "outputs": [],
   "source": [
    "button = browser.find_element_by_xpath(\"//button[contains(text(),'显示答案')]\")\n",
    "browser.execute_script(\"$(arguments[0]).click()\",button)"
   ]
  },
  {
   "cell_type": "code",
   "execution_count": 24,
   "metadata": {},
   "outputs": [
    {
     "name": "stdout",
     "output_type": "stream",
     "text": [
      "success\n"
     ]
    }
   ],
   "source": [
    "content = browser.page_source\n",
    "num = 1\n",
    "file = open(\"1.txt\", \"a\", encoding=\"utf-8\")\n",
    "results = re.findall('\"question.topic\">(.*?)</div>.*?option\\.content\">(.*?)</span>.*?option\\.content\">(.*?)</span>.*?option\\.content\">(.*?)</span>.*?option\\.content\">(.*?)</span>.*?question\\.answerResultAn\\.join.*?\">(.*?)</span>',content,re.S)\n",
    "for question, a, b, c, d, result in results:\n",
    "    file.write(str(num)+\".\"+question+\"\\n\"+a+\" \"+b+\" \"+c+\" \"+d+\" \"+result+\"\\n\")\n",
    "    num += 1\n",
    "file.close()\n",
    "print(\"success\")"
   ]
  },
  {
   "cell_type": "code",
   "execution_count": 29,
   "metadata": {},
   "outputs": [
    {
     "name": "stdout",
     "output_type": "stream",
     "text": [
      "0success\n",
      "1success\n",
      "2success\n",
      "3success\n",
      "4success\n",
      "5success\n",
      "6success\n",
      "7success\n",
      "8success\n",
      "9success\n"
     ]
    }
   ],
   "source": [
    "i = 0\n",
    "while (i < 10):\n",
    "    browser.refresh()\n",
    "    time.sleep(10)\n",
    "    button = browser.find_element_by_xpath(\"//button[contains(text(),'显示答案')]\")\n",
    "    browser.execute_script(\"$(arguments[0]).click()\",button)\n",
    "    content = browser.page_source\n",
    "    num = i * 40\n",
    "    file = open(\"1.txt\", \"a\", encoding=\"utf-8\")\n",
    "    results = re.findall('\"question.topic\">(.*?)</div>.*?option\\.content\">(.*?)</span>.*?option\\.content\">(.*?)</span>.*?option\\.content\">(.*?)</span>.*?option\\.content\">(.*?)</span>.*?question\\.answerResultAn\\.join.*?\">(.*?)</span>',content,re.S)\n",
    "    for question, a, b, c, d, result in results:\n",
    "        file.write(str(num)+\".\"+question+\"\\n\"+a+\" \"+b+\" \"+c+\" \"+d+\" \"+result+\"\\n\")\n",
    "        num += 1\n",
    "    file.close()\n",
    "    print(str(i)+\"success\")\n",
    "    i += 1"
   ]
  },
  {
   "cell_type": "code",
   "execution_count": 31,
   "metadata": {},
   "outputs": [
    {
     "name": "stdout",
     "output_type": "stream",
     "text": [
      "100success\n",
      "101success\n",
      "102success\n",
      "103success\n",
      "104success\n",
      "105success\n",
      "106success\n",
      "107success\n",
      "108success\n",
      "109success\n",
      "110success\n",
      "111success\n",
      "112success\n",
      "113success\n",
      "114success\n",
      "115success\n",
      "116success\n",
      "117success\n",
      "118success\n",
      "119success\n",
      "120success\n",
      "121success\n",
      "122success\n",
      "123success\n",
      "124success\n",
      "125success\n",
      "126success\n",
      "127success\n",
      "128success\n",
      "129success\n",
      "130success\n",
      "131success\n",
      "132success\n",
      "133success\n",
      "134success\n",
      "135success\n",
      "136success\n",
      "137success\n",
      "138success\n",
      "139success\n",
      "140success\n",
      "141success\n",
      "142success\n",
      "143success\n",
      "144success\n",
      "145success\n",
      "146success\n",
      "147success\n",
      "148success\n",
      "149success\n",
      "150success\n",
      "151success\n",
      "152success\n",
      "153success\n",
      "154success\n",
      "155success\n",
      "156success\n",
      "157success\n",
      "158success\n",
      "159success\n",
      "160success\n",
      "161success\n",
      "162success\n",
      "163success\n",
      "164success\n",
      "165success\n",
      "166success\n",
      "167success\n",
      "168success\n",
      "169success\n",
      "170success\n",
      "171success\n",
      "172success\n",
      "173success\n",
      "174success\n",
      "175success\n",
      "176success\n",
      "177success\n",
      "178success\n",
      "179success\n",
      "180success\n",
      "181success\n",
      "182success\n",
      "183success\n",
      "184success\n",
      "185success\n",
      "186success\n",
      "187success\n",
      "188success\n",
      "189success\n",
      "190success\n",
      "191success\n",
      "192success\n",
      "193success\n",
      "194success\n",
      "195success\n",
      "196success\n",
      "197success\n",
      "198success\n",
      "199success\n"
     ]
    }
   ],
   "source": [
    "i = 100\n",
    "while (i < 200):\n",
    "    browser.refresh()\n",
    "    time.sleep(15)\n",
    "    button = browser.find_element_by_xpath(\"//button[contains(text(),'显示答案')]\")\n",
    "    browser.execute_script(\"$(arguments[0]).click()\",button)\n",
    "    content = browser.page_source\n",
    "    num = i * 40\n",
    "    file = open(\"1.txt\", \"a\", encoding=\"utf-8\")\n",
    "    results = re.findall('\"question.topic\">(.*?)</div>.*?option\\.content\">(.*?)</span>.*?option\\.content\">(.*?)</span>.*?option\\.content\">(.*?)</span>.*?option\\.content\">(.*?)</span>.*?question\\.answerResultAn\\.join.*?\">(.*?)</span>',content,re.S)\n",
    "    for question, a, b, c, d, result in results:\n",
    "        file.write(str(num)+\".\"+question+\"\\n\"+a+\" \"+b+\" \"+c+\" \"+d+\" \"+result+\"\\n\")\n",
    "        num += 1\n",
    "    file.close()\n",
    "    print(str(i)+\"success\")\n",
    "    i += 1"
   ]
  },
  {
   "cell_type": "code",
   "execution_count": null,
   "metadata": {},
   "outputs": [],
   "source": []
  }
 ],
 "metadata": {
  "kernelspec": {
   "display_name": "Python 3",
   "language": "python",
   "name": "python3"
  },
  "language_info": {
   "codemirror_mode": {
    "name": "ipython",
    "version": 3
   },
   "file_extension": ".py",
   "mimetype": "text/x-python",
   "name": "python",
   "nbconvert_exporter": "python",
   "pygments_lexer": "ipython3",
   "version": "3.6.5"
  }
 },
 "nbformat": 4,
 "nbformat_minor": 2
}
