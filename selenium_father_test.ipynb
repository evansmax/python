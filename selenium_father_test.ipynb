{
 "cells": [
  {
   "cell_type": "code",
   "execution_count": 5,
   "metadata": {},
   "outputs": [],
   "source": [
    "#1 > 手动登陆(http://gkpx.fjrs.gov.cn/index)，进入练习页 > #2 > #3 > 测试 > 工作\n",
    "收集8000题重复的几率大约是1/40~1/45, 考试仍然有部分题目不再搜集的题库中，借助自己或搜索引擎可以达到80+"
   ]
  },
  {
   "cell_type": "code",
   "execution_count": 5,
   "metadata": {},
   "outputs": [],
   "source": [
    "# 1\n",
    "# 第一次打开需要运行\n",
    "\n",
    "from selenium import webdriver\n",
    "import time\n",
    "import re\n",
    "import io\n",
    "browser = webdriver.Chrome()"
   ]
  },
  {
   "cell_type": "code",
   "execution_count": 6,
   "metadata": {},
   "outputs": [],
   "source": [
    "# 2\n",
    "# 第一次打开需要运行\n",
    "\n",
    "# 获取当前窗口句柄(handle)\n",
    "now_handle = browser.current_window_handle\n",
    "# 获取所有句柄\n",
    "all_handle = browser.window_handles\n",
    "for handle in all_handle:\n",
    "    # 由于首页是current_window_handle, 但练习页非首页, 所以切换到非current_window_handle\n",
    "    if handle != now_handle:\n",
    "        browser.switch_to_window(handle)"
   ]
  },
  {
   "cell_type": "code",
   "execution_count": 25,
   "metadata": {},
   "outputs": [],
   "source": [
    "# 3\n",
    "# 第一次打开需要运行，因为第一次刷新会出现弹窗，为了简单，点击不再出现弹窗，以后短时间刷新便不会出现弹窗\n",
    "\n",
    "# 刷新页面\n",
    "browser.refresh()"
   ]
  },
  {
   "cell_type": "code",
   "execution_count": 23,
   "metadata": {},
   "outputs": [],
   "source": [
    "# 4\n",
    "# 测试时运行\n",
    "\n",
    "# 由于有两个button, 所以使用xpath\n",
    "button = browser.find_element_by_xpath(\"//button[contains(text(),'显示答案')]\")\n",
    "# 直接使用button.click()不可行, 所以使用下列方法, arguments[0]代表找到的button元素\n",
    "browser.execute_script(\"$(arguments[0]).click()\",button)"
   ]
  },
  {
   "cell_type": "code",
   "execution_count": 24,
   "metadata": {},
   "outputs": [
    {
     "name": "stdout",
     "output_type": "stream",
     "text": [
      "success\n"
     ]
    }
   ],
   "source": [
    "# 5\n",
    "# 测试时运行\n",
    "\n",
    "content = browser.page_source\n",
    "# num是序列号\n",
    "num = 1\n",
    "# a是追加写入\n",
    "file = open(\"1.txt\", \"a\", encoding=\"utf-8\")\n",
    "results = re.findall('\"question.topic\">(.*?)</div>.*?option\\.content\">(.*?)</span>.*?option\\.content\">(.*?)</span>.*?option\\.content\">(.*?)</span>.*?option\\.content\">(.*?)</span>.*?question\\.answerResultAn\\.join.*?\">(.*?)</span>',content,re.S)\n",
    "for question, a, b, c, d, result in results:\n",
    "    file.write(str(num)+\".\"+question+\"\\n\"+a+\" \"+b+\" \"+c+\" \"+d+\" \"+result+\"\\n\")\n",
    "    num += 1\n",
    "file.close()\n",
    "print(\"success\")"
   ]
  },
  {
   "cell_type": "code",
   "execution_count": null,
   "metadata": {},
   "outputs": [],
   "source": [
    "# 5\n",
    "# 真正工作代码，200一般足够，练习可以收集到大约150~200道题目，凭借题库和baidu可以获得80+的分数\n",
    "\n",
    "i = 0\n",
    "while (i < 200):\n",
    "    browser.refresh()\n",
    "    # 刷新页面需要点时间, 正好利用来休息\n",
    "    time.sleep(10)\n",
    "    button = browser.find_element_by_xpath(\"//button[contains(text(),'显示答案')]\")\n",
    "    browser.execute_script(\"$(arguments[0]).click()\",button)\n",
    "    content = browser.page_source\n",
    "    num = i * 40\n",
    "    file = open(\"1.txt\", \"a\", encoding=\"utf-8\")\n",
    "    results = re.findall('\"question.topic\">(.*?)</div>.*?option\\.content\">(.*?)</span>.*?option\\.content\">(.*?)</span>.*?option\\.content\">(.*?)</span>.*?option\\.content\">(.*?)</span>.*?question\\.answerResultAn\\.join.*?\">(.*?)</span>',content,re.S)\n",
    "    for question, a, b, c, d, result in results:\n",
    "        file.write(str(num)+\".\"+question+\"\\n\"+a+\" \"+b+\" \"+c+\" \"+d+\" \"+result+\"\\n\")\n",
    "        num += 1\n",
    "    file.close()\n",
    "    # 成功讯息\n",
    "    print(str(i)+\"success\")\n",
    "    i += 1"
   ]
  },
  {
   "cell_type": "code",
   "execution_count": null,
   "metadata": {},
   "outputs": [],
   "source": []
  }
 ],
 "metadata": {
  "kernelspec": {
   "display_name": "Python 3",
   "language": "python",
   "name": "python3"
  },
  "language_info": {
   "codemirror_mode": {
    "name": "ipython",
    "version": 3
   },
   "file_extension": ".py",
   "mimetype": "text/x-python",
   "name": "python",
   "nbconvert_exporter": "python",
   "pygments_lexer": "ipython3",
   "version": "3.6.5"
  }
 },
 "nbformat": 4,
 "nbformat_minor": 2
}
